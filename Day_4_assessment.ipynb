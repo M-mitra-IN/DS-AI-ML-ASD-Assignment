{
  "nbformat": 4,
  "nbformat_minor": 0,
  "metadata": {
    "colab": {
      "provenance": [],
      "authorship_tag": "ABX9TyN7SW3PYi76T12QFGoioxkK",
      "include_colab_link": true
    },
    "kernelspec": {
      "name": "python3",
      "display_name": "Python 3"
    },
    "language_info": {
      "name": "python"
    }
  },
  "cells": [
    {
      "cell_type": "markdown",
      "metadata": {
        "id": "view-in-github",
        "colab_type": "text"
      },
      "source": [
        "<a href=\"https://colab.research.google.com/github/M-mitra-IN/DS-AI-ML-ASD-Assignment/blob/main/Day_4_assessment.ipynb\" target=\"_parent\"><img src=\"https://colab.research.google.com/assets/colab-badge.svg\" alt=\"Open In Colab\"/></a>"
      ]
    },
    {
      "cell_type": "code",
      "execution_count": 35,
      "metadata": {
        "id": "MfC4brIkyPG-"
      },
      "outputs": [],
      "source": [
        "import pandas as pd"
      ]
    },
    {
      "cell_type": "code",
      "source": [
        "#1\n",
        "fruits = ['apple','banana','oranges','grapes','mangoes']\n",
        "f = pd.Series(fruits)\n",
        "print(f)\n",
        "\n",
        "print(\"\\nThrid fruit: \", f[3])"
      ],
      "metadata": {
        "colab": {
          "base_uri": "https://localhost:8080/"
        },
        "id": "6Zgxxw_7yihG",
        "outputId": "a8ecedda-82ce-4671-9f73-fe6310bf2019"
      },
      "execution_count": 36,
      "outputs": [
        {
          "output_type": "stream",
          "name": "stdout",
          "text": [
            "0      apple\n",
            "1     banana\n",
            "2    oranges\n",
            "3     grapes\n",
            "4    mangoes\n",
            "dtype: object\n",
            "\n",
            "Thrid fruit:  grapes\n"
          ]
        }
      ]
    },
    {
      "cell_type": "code",
      "source": [
        "#2\n",
        "students = [\"Raj\",\"Anu\",\"Shekhar\",\"Namita\",\"Nancy\",\"Ahana\",\"Rakesh\",\"Shivam\"]\n",
        "scores = [80,90,95,85,88,99,86,75]\n",
        "report = pd.Series(scores,students)\n",
        "print(\"Anu Scored: \", report[\"Anu\"])"
      ],
      "metadata": {
        "colab": {
          "base_uri": "https://localhost:8080/"
        },
        "id": "9BM--pJMzlwM",
        "outputId": "3aa89cde-cd21-48aa-d901-51655a2c520c"
      },
      "execution_count": 37,
      "outputs": [
        {
          "output_type": "stream",
          "name": "stdout",
          "text": [
            "Anu Scored:  90\n"
          ]
        }
      ]
    },
    {
      "cell_type": "code",
      "source": [
        "#3\n",
        "d ={\n",
        "    \"Name\": [\"Raj\",\"Anu\",\"Shekhar\",\"Namita\",\"Nancy\",\"Ahana\",\"Rakesh\",\"Shivam\"],\n",
        "    \"Age\": [18,17,18,19,17,21,22,21],\n",
        "    \"Marks\": [80,90,95,85,88,99,86,75],\n",
        "}\n",
        "df = pd.DataFrame(d)\n",
        "print(df[[\"Age\"]])"
      ],
      "metadata": {
        "id": "Q7pcO_We0lf5",
        "colab": {
          "base_uri": "https://localhost:8080/"
        },
        "outputId": "1633474e-0656-4986-b2b4-79bd49ac3428"
      },
      "execution_count": 38,
      "outputs": [
        {
          "output_type": "stream",
          "name": "stdout",
          "text": [
            "   Age\n",
            "0   18\n",
            "1   17\n",
            "2   18\n",
            "3   19\n",
            "4   17\n",
            "5   21\n",
            "6   22\n",
            "7   21\n"
          ]
        }
      ]
    },
    {
      "cell_type": "code",
      "source": [
        "#4\n",
        "d={\n",
        "    \"Name\": [\"Raj\",\"Anu\",\"Shekhar\",\"Namita\",\"Nancy\",\"Ahana\",\"Rakesh\",\"Shivam\"],\n",
        "    \"Salary\": [18000,17500,18500,19000,17000,23000,22000,21000],\n",
        "    \"Department\": [\"IT\",\"Sanitation\",\"Accounts\",\"Cashier\",\"Stock\",\"HR\",\"Sales\",\"Security\"],\n",
        "    \"Phone Number\": ['9763847201', '8123094756', '9018473629', '7839201746', '8937462017',\n",
        " '9048573621', '7890321456','9090678754']\n",
        "}\n",
        "df = pd.DataFrame(d)\n",
        "print(df.loc[0,'Name':'Salary'])"
      ],
      "metadata": {
        "colab": {
          "base_uri": "https://localhost:8080/"
        },
        "id": "xUmRZHr7VVTt",
        "outputId": "6a9caf00-63fe-4d28-f53c-a481f9beecdc"
      },
      "execution_count": 39,
      "outputs": [
        {
          "output_type": "stream",
          "name": "stdout",
          "text": [
            "Name        Raj\n",
            "Salary    18000\n",
            "Name: 0, dtype: object\n"
          ]
        }
      ]
    },
    {
      "cell_type": "code",
      "source": [
        "#5\n",
        "student ={\n",
        "    \"Name\": [\"Raj\",\"Anu\",\"Shekhar\",\"Namita\",\"Nancy\",\"Ahana\",\"Rakesh\",\"Shivam\"],\n",
        "    \"Age\": [18,17,18,19,17,21,22,21],\n",
        "    \"Marks\": [80,90,95,85,88,99,86,75],\n",
        "    \"Roll\": [10,25,35,40,45,16,17,38]\n",
        "}\n",
        "df = pd.DataFrame(student)\n",
        "print(df.iloc[0:3])"
      ],
      "metadata": {
        "colab": {
          "base_uri": "https://localhost:8080/"
        },
        "outputId": "1859d427-97ce-4761-9e82-57dbc18345d8",
        "id": "KSY6_YTGbfSn"
      },
      "execution_count": 40,
      "outputs": [
        {
          "output_type": "stream",
          "name": "stdout",
          "text": [
            "      Name  Age  Marks  Roll\n",
            "0      Raj   18     80    10\n",
            "1      Anu   17     90    25\n",
            "2  Shekhar   18     95    35\n"
          ]
        }
      ]
    },
    {
      "cell_type": "code",
      "source": [
        "#6\n",
        "customer ={\n",
        "    \"Name\": [\"Raj\",\"Anu\",\"Shekhar\",\"Namita\",\"Nancy\",\"Ahana\",\"Rakesh\",\"Shivam\"],\n",
        "    \"Age\": [18,17,18,19,17,21,22,21],\n",
        "    \"Reward Points\": [80,90,95,85,88,99,86,75],\n",
        "    \"Items Bought\": [10,25,35,40,45,16,17,38],\n",
        "    \"Phone Number\": ['9763847201', '8123094756', '9018473629', '7839201746', '8937462017',\n",
        " '9048573621', '7890321456','9090678754']\n",
        "}\n",
        "df = pd.DataFrame(customer)\n",
        "df.at[2,'Name'] = \"Ratan\"\n",
        "print(df)"
      ],
      "metadata": {
        "colab": {
          "base_uri": "https://localhost:8080/"
        },
        "id": "GrBOZNuXbXYI",
        "outputId": "b82be6bf-fe9c-4e45-aeaf-f2b69916e8fc"
      },
      "execution_count": 41,
      "outputs": [
        {
          "output_type": "stream",
          "name": "stdout",
          "text": [
            "     Name  Age  Reward Points  Items Bought Phone Number\n",
            "0     Raj   18             80            10   9763847201\n",
            "1     Anu   17             90            25   8123094756\n",
            "2   Ratan   18             95            35   9018473629\n",
            "3  Namita   19             85            40   7839201746\n",
            "4   Nancy   17             88            45   8937462017\n",
            "5   Ahana   21             99            16   9048573621\n",
            "6  Rakesh   22             86            17   7890321456\n",
            "7  Shivam   21             75            38   9090678754\n"
          ]
        }
      ]
    },
    {
      "cell_type": "code",
      "source": [
        "#7\n",
        "NaN = float('nan')\n",
        "student ={\n",
        "    \"Name\": [\"Raj\",\"Anu\",\"Ratan\",\"Shekhar\",\"Namita\",\"Amar\",\"Nancy\",\"Ahana\",\"Rakesh\",\"Shivam\",\"Rupa\",\"Shreya\"],\n",
        "    \"Age\": [18,17,18,19,17,21,22,21,21,23,24,22],\n",
        "    \"Marks\": [80,90,NaN,95,85,NaN,88,99,86,75,NaN,NaN],\n",
        "    \"Roll\": [10,25,35,40,45,16,17,38,11,12,26,34]\n",
        "}\n",
        "df = pd.DataFrame(student)\n",
        "df['Marks'] = df['Marks'].fillna(df['Marks'].mean())\n",
        "print(df)"
      ],
      "metadata": {
        "colab": {
          "base_uri": "https://localhost:8080/"
        },
        "id": "9zxV5bD7l8KM",
        "outputId": "414f792c-aba5-4460-c2ea-820314ee57ab"
      },
      "execution_count": 42,
      "outputs": [
        {
          "output_type": "stream",
          "name": "stdout",
          "text": [
            "       Name  Age  Marks  Roll\n",
            "0       Raj   18  80.00    10\n",
            "1       Anu   17  90.00    25\n",
            "2     Ratan   18  87.25    35\n",
            "3   Shekhar   19  95.00    40\n",
            "4    Namita   17  85.00    45\n",
            "5      Amar   21  87.25    16\n",
            "6     Nancy   22  88.00    17\n",
            "7     Ahana   21  99.00    38\n",
            "8    Rakesh   21  86.00    11\n",
            "9    Shivam   23  75.00    12\n",
            "10     Rupa   24  87.25    26\n",
            "11   Shreya   22  87.25    34\n"
          ]
        }
      ]
    },
    {
      "cell_type": "code",
      "source": [
        "###\n",
        "df = pd.read_csv('/content/sample_data/student_data_with_nans.csv')\n",
        "print(df)"
      ],
      "metadata": {
        "colab": {
          "base_uri": "https://localhost:8080/"
        },
        "id": "H1h2cGDt-PfZ",
        "outputId": "63064da0-1e50-4db8-f1c8-50273c498c7c"
      },
      "execution_count": 43,
      "outputs": [
        {
          "output_type": "stream",
          "name": "stdout",
          "text": [
            "       Name   Age  Marks  Roll\n",
            "0       Raj  18.0    NaN    10\n",
            "1       Anu  17.0   90.0    25\n",
            "2     Ratan  18.0   91.0    35\n",
            "3   Shekhar  19.0    NaN    40\n",
            "4    Namita  17.0   85.0    45\n",
            "5      Amar  21.0   87.0    16\n",
            "6     Nancy  22.0   88.0    17\n",
            "7     Ahana   NaN   99.0    38\n",
            "8    Rakesh  21.0   86.0    11\n",
            "9    Shivam   NaN   75.0    12\n",
            "10     Rupa  24.0   92.0    26\n",
            "11   Shreya   NaN    NaN    34\n"
          ]
        }
      ]
    },
    {
      "cell_type": "code",
      "source": [
        "#8\n",
        "df = pd.read_csv('/content/sample_data/student_data_with_nans.csv')\n",
        "print(df.head(5))"
      ],
      "metadata": {
        "colab": {
          "base_uri": "https://localhost:8080/"
        },
        "id": "FvANWBfzp-5T",
        "outputId": "cab332d8-2188-4972-b7e8-65781e32f82e"
      },
      "execution_count": 44,
      "outputs": [
        {
          "output_type": "stream",
          "name": "stdout",
          "text": [
            "      Name   Age  Marks  Roll\n",
            "0      Raj  18.0    NaN    10\n",
            "1      Anu  17.0   90.0    25\n",
            "2    Ratan  18.0   91.0    35\n",
            "3  Shekhar  19.0    NaN    40\n",
            "4   Namita  17.0   85.0    45\n"
          ]
        }
      ]
    },
    {
      "cell_type": "code",
      "source": [
        "#9\n",
        "print(df.loc[df['Age'].isnull()])"
      ],
      "metadata": {
        "colab": {
          "base_uri": "https://localhost:8080/"
        },
        "id": "6NbzWot69LrL",
        "outputId": "fe5e0a1c-0c37-4497-a786-5ddd8c719a92"
      },
      "execution_count": 45,
      "outputs": [
        {
          "output_type": "stream",
          "name": "stdout",
          "text": [
            "      Name  Age  Marks  Roll\n",
            "7    Ahana  NaN   99.0    38\n",
            "9   Shivam  NaN   75.0    12\n",
            "11  Shreya  NaN    NaN    34\n"
          ]
        }
      ]
    },
    {
      "cell_type": "code",
      "source": [
        "#10\n",
        "d={\n",
        "    \"Name\": [\"Raj\",\"Anu\",\"Shekhar\",\"Namita\",\"Nancy\",\"Ahana\",\"Rakesh\",\"Shivam\"],\n",
        "    \"Salary\": [18000,17500,18500,19000,17000,23000,22000,21000],\n",
        "    \"Department\": [\"IT\",\"Sanitation\",\"Accounts\",\"Cashier\",\"Stock\",\"HR\",\"Sales\",\"Security\"],\n",
        "    \"Phone Number\": ['9763847201', '8123094756', '9018473629', '7839201746', '8937462017',\n",
        " '9048573621', '7890321456','9090678754']\n",
        "}\n",
        "df = pd.DataFrame(d)\n",
        "print(df)\n",
        "print(\"Mean Salary:\", df['Salary'].mean())"
      ],
      "metadata": {
        "colab": {
          "base_uri": "https://localhost:8080/"
        },
        "id": "6v20MMos-Hf7",
        "outputId": "91f502d9-5d81-4783-bf41-63370d13ec6c"
      },
      "execution_count": 46,
      "outputs": [
        {
          "output_type": "stream",
          "name": "stdout",
          "text": [
            "      Name  Salary  Department Phone Number\n",
            "0      Raj   18000          IT   9763847201\n",
            "1      Anu   17500  Sanitation   8123094756\n",
            "2  Shekhar   18500    Accounts   9018473629\n",
            "3   Namita   19000     Cashier   7839201746\n",
            "4    Nancy   17000       Stock   8937462017\n",
            "5    Ahana   23000          HR   9048573621\n",
            "6   Rakesh   22000       Sales   7890321456\n",
            "7   Shivam   21000    Security   9090678754\n",
            "Mean Salary: 19500.0\n"
          ]
        }
      ]
    },
    {
      "cell_type": "code",
      "source": [
        "#11\n",
        "df = pd.read_csv('/content/sample_data/student_data_with_nans.csv')\n",
        "df['Marks'] = df['Marks'].fillna(75)\n",
        "print(df)"
      ],
      "metadata": {
        "colab": {
          "base_uri": "https://localhost:8080/"
        },
        "id": "13fLg_gm-8wH",
        "outputId": "1bc30618-7bd5-4215-e93c-2af122b61aee"
      },
      "execution_count": 47,
      "outputs": [
        {
          "output_type": "stream",
          "name": "stdout",
          "text": [
            "       Name   Age  Marks  Roll\n",
            "0       Raj  18.0   75.0    10\n",
            "1       Anu  17.0   90.0    25\n",
            "2     Ratan  18.0   91.0    35\n",
            "3   Shekhar  19.0   75.0    40\n",
            "4    Namita  17.0   85.0    45\n",
            "5      Amar  21.0   87.0    16\n",
            "6     Nancy  22.0   88.0    17\n",
            "7     Ahana   NaN   99.0    38\n",
            "8    Rakesh  21.0   86.0    11\n",
            "9    Shivam   NaN   75.0    12\n",
            "10     Rupa  24.0   92.0    26\n",
            "11   Shreya   NaN   75.0    34\n"
          ]
        }
      ]
    },
    {
      "cell_type": "code",
      "source": [
        "#12\n",
        "print(df.iloc[2:6,1:4])"
      ],
      "metadata": {
        "colab": {
          "base_uri": "https://localhost:8080/"
        },
        "id": "bq_WtTylAc9_",
        "outputId": "65f788d0-32d7-4e82-817c-609bd770b70e"
      },
      "execution_count": 48,
      "outputs": [
        {
          "output_type": "stream",
          "name": "stdout",
          "text": [
            "    Age  Marks  Roll\n",
            "2  18.0   91.0    35\n",
            "3  19.0   75.0    40\n",
            "4  17.0   85.0    45\n",
            "5  21.0   87.0    16\n"
          ]
        }
      ]
    },
    {
      "cell_type": "code",
      "source": [
        "#13\n",
        "print(df.loc[df['Age'] > 20])"
      ],
      "metadata": {
        "colab": {
          "base_uri": "https://localhost:8080/"
        },
        "id": "JoI9f308A0vy",
        "outputId": "010da4fc-54ca-40d3-81c4-4e544d0d965b"
      },
      "execution_count": 49,
      "outputs": [
        {
          "output_type": "stream",
          "name": "stdout",
          "text": [
            "      Name   Age  Marks  Roll\n",
            "5     Amar  21.0   87.0    16\n",
            "6    Nancy  22.0   88.0    17\n",
            "8   Rakesh  21.0   86.0    11\n",
            "10    Rupa  24.0   92.0    26\n"
          ]
        }
      ]
    },
    {
      "cell_type": "code",
      "source": [
        "#14\n",
        "d = {\n",
        "    \"Item\": [\"Sugar Syrup(250mL)\",\"Milk(500mL)\",\"Chocolate Icecream(500g)\",\"Cups\",\"Straws\",\"Chocolate Chips(10g)\",\"Oreos(small)\"],\n",
        "    \"Quantity\":[1,2,1,6,6,1,10],\n",
        "    \"Price\":[120.00,25.00,150.00,5,1,50,5]\n",
        "}\n",
        "df = pd.DataFrame(d)\n",
        "df['Total Price'] = df['Quantity'] * df['Price']\n",
        "print(df)"
      ],
      "metadata": {
        "colab": {
          "base_uri": "https://localhost:8080/"
        },
        "id": "P40JvgBsBLoj",
        "outputId": "b06dd860-3a87-4c92-f82f-26560fc54a1b"
      },
      "execution_count": 50,
      "outputs": [
        {
          "output_type": "stream",
          "name": "stdout",
          "text": [
            "                       Item  Quantity  Price  Total Price\n",
            "0        Sugar Syrup(250mL)         1  120.0        120.0\n",
            "1               Milk(500mL)         2   25.0         50.0\n",
            "2  Chocolate Icecream(500g)         1  150.0        150.0\n",
            "3                      Cups         6    5.0         30.0\n",
            "4                    Straws         6    1.0          6.0\n",
            "5      Chocolate Chips(10g)         1   50.0         50.0\n",
            "6              Oreos(small)        10    5.0         50.0\n"
          ]
        }
      ]
    },
    {
      "cell_type": "code",
      "source": [
        "#15\n",
        "d = {\n",
        "    'City': ['Delhi', 'Mumbai', 'Kolkata', 'Chennai', 'Bangalore'],\n",
        "    'Temperature': [35.5, NaN, 32.0, NaN, 28.5]\n",
        "}\n",
        "\n",
        "df = pd.DataFrame(d)\n",
        "mean_temp = df['Temperature'].mean()\n",
        "df['Temperature'] = df['Temperature'].fillna(mean_temp)\n",
        "print(df)"
      ],
      "metadata": {
        "colab": {
          "base_uri": "https://localhost:8080/"
        },
        "id": "xvvV9kWLDFQW",
        "outputId": "db92944c-1781-49a2-e0dd-9f54367c002a"
      },
      "execution_count": 51,
      "outputs": [
        {
          "output_type": "stream",
          "name": "stdout",
          "text": [
            "        City  Temperature\n",
            "0      Delhi         35.5\n",
            "1     Mumbai         32.0\n",
            "2    Kolkata         32.0\n",
            "3    Chennai         32.0\n",
            "4  Bangalore         28.5\n"
          ]
        }
      ]
    }
  ]
}