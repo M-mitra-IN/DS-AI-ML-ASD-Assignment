{
  "nbformat": 4,
  "nbformat_minor": 0,
  "metadata": {
    "colab": {
      "provenance": [],
      "authorship_tag": "ABX9TyNWOsx8c2yhrAKOQBew0G82",
      "include_colab_link": true
    },
    "kernelspec": {
      "name": "python3",
      "display_name": "Python 3"
    },
    "language_info": {
      "name": "python"
    }
  },
  "cells": [
    {
      "cell_type": "markdown",
      "metadata": {
        "id": "view-in-github",
        "colab_type": "text"
      },
      "source": [
        "<a href=\"https://colab.research.google.com/github/M-mitra-IN/DS-AI-ML-ASD-Assignment/blob/main/Day_3_assessment.ipynb\" target=\"_parent\"><img src=\"https://colab.research.google.com/assets/colab-badge.svg\" alt=\"Open In Colab\"/></a>"
      ]
    },
    {
      "cell_type": "code",
      "execution_count": 2,
      "metadata": {
        "id": "2hghvE2c6hoh"
      },
      "outputs": [],
      "source": [
        "import numpy as np"
      ]
    },
    {
      "cell_type": "code",
      "source": [
        "#1\n",
        "score = np.array([])\n",
        "for i in range(0,10):\n",
        "  sc = int(input(\"Enter score: \"))\n",
        "  score = np.append(score,sc)\n",
        "arr = np.co98py(score)\n",
        "filter = arr[arr>50]\n",
        "print(filter)"
      ],
      "metadata": {
        "colab": {
          "base_uri": "https://localhost:8080/"
        },
        "id": "_SO0QN2u7mBS",
        "outputId": "bb96df77-d480-4d33-b888-34b274df768e"
      },
      "execution_count": 4,
      "outputs": [
        {
          "output_type": "stream",
          "name": "stdout",
          "text": [
            "Enter score: 51\n",
            "Enter score: 50\n",
            "Enter score: 63\n",
            "Enter score: 90\n",
            "Enter score: 91\n",
            "Enter score: 99\n",
            "Enter score: 1\n",
            "Enter score: 45\n",
            "Enter score: 43\n",
            "Enter score: 91\n",
            "[51. 63. 90. 91. 99. 91.]\n"
          ]
        }
      ]
    },
    {
      "cell_type": "code",
      "source": [
        "#2\n",
        "print(\"Mean score: \", np.mean(score))"
      ],
      "metadata": {
        "colab": {
          "base_uri": "https://localhost:8080/"
        },
        "id": "szpGkFV57o9U",
        "outputId": "c06fe8ac-ca25-4241-df4a-b36ae380ca04"
      },
      "execution_count": 5,
      "outputs": [
        {
          "output_type": "stream",
          "name": "stdout",
          "text": [
            "Mean score:  62.4\n"
          ]
        }
      ]
    },
    {
      "cell_type": "code",
      "source": [
        "#3\n",
        "print(\"Median score: \", np.median(score))"
      ],
      "metadata": {
        "colab": {
          "base_uri": "https://localhost:8080/"
        },
        "id": "XXfbSW8o-CR2",
        "outputId": "5987c869-a526-4eed-8e0b-4c6c33db5a2d"
      },
      "execution_count": 6,
      "outputs": [
        {
          "output_type": "stream",
          "name": "stdout",
          "text": [
            "Median score:  57.0\n"
          ]
        }
      ]
    },
    {
      "cell_type": "code",
      "source": [
        "#4\n",
        "values, counts = np.unique(score, return_counts=True)\n",
        "mode = values[np.argmax(counts)]\n",
        "print(\"Mode of score: \", mode)"
      ],
      "metadata": {
        "colab": {
          "base_uri": "https://localhost:8080/"
        },
        "id": "yEvloOQg-c40",
        "outputId": "04515024-306c-4857-c86d-58e57932cc02"
      },
      "execution_count": 8,
      "outputs": [
        {
          "output_type": "stream",
          "name": "stdout",
          "text": [
            "Mode of score:  91.0\n"
          ]
        }
      ]
    },
    {
      "cell_type": "code",
      "source": [
        "Temperature = np.array([\n",
        "    [23.5, 34.1, 31.2, 22.8, 29.7, 38.0, 36.2],\n",
        "    [27.4, 25.5, 32.6, 30.9, 39.5, 21.3, 34.7],\n",
        "    [26.8, 28.1, 35.6, 22.2, 30.4, 33.7, 37.9],\n",
        "    [24.2, 29.8, 31.0, 27.7, 36.1, 39.0, 28.3]])\n"
      ],
      "metadata": {
        "id": "MogcJXh3_FyG"
      },
      "execution_count": 11,
      "outputs": []
    },
    {
      "cell_type": "code",
      "source": [
        "#5\n",
        "temp = np.copy(Temperature)\n",
        "print(temp)\n",
        "print(\"\\nTemperatures in week 2:\", temp[1])"
      ],
      "metadata": {
        "colab": {
          "base_uri": "https://localhost:8080/"
        },
        "id": "cRMOfs5l_k5Q",
        "outputId": "988f9145-d7f5-4456-c302-e424c05bfb7e"
      },
      "execution_count": 14,
      "outputs": [
        {
          "output_type": "stream",
          "name": "stdout",
          "text": [
            "[[23.5 34.1 31.2 22.8 29.7 38.  36.2]\n",
            " [27.4 25.5 32.6 30.9 39.5 21.3 34.7]\n",
            " [26.8 28.1 35.6 22.2 30.4 33.7 37.9]\n",
            " [24.2 29.8 31.  27.7 36.1 39.  28.3]]\n",
            "\n",
            "Temperatures in week 2: [27.4 25.5 32.6 30.9 39.5 21.3 34.7]\n"
          ]
        }
      ]
    },
    {
      "cell_type": "code",
      "source": [
        "#6\n",
        "print(\"Maximum Temperatures over the month: \", np.max(temp))"
      ],
      "metadata": {
        "colab": {
          "base_uri": "https://localhost:8080/"
        },
        "id": "eYkkWzlRCXa4",
        "outputId": "230f7da1-759e-4dbf-f5a3-0e34ffac71ec"
      },
      "execution_count": 16,
      "outputs": [
        {
          "output_type": "stream",
          "name": "stdout",
          "text": [
            "Maximum Temperatures over the month:  39.5\n"
          ]
        }
      ]
    },
    {
      "cell_type": "code",
      "source": [
        "#7\n",
        "tmax = np.max(temp)\n",
        "tmin = np.min(temp)\n",
        "normalised_temp = np.round(((temp - tmin)/(tmax - tmin)),3)\n",
        "print(\"Normalised Temperature:\\n\", normalised_temp)"
      ],
      "metadata": {
        "colab": {
          "base_uri": "https://localhost:8080/"
        },
        "id": "73duPAszCn1q",
        "outputId": "984dbe1d-9cc4-4f2f-e767-d88859bc0259"
      },
      "execution_count": 19,
      "outputs": [
        {
          "output_type": "stream",
          "name": "stdout",
          "text": [
            "Normalised Temperature:\n",
            " [[0.121 0.703 0.544 0.082 0.462 0.918 0.819]\n",
            " [0.335 0.231 0.621 0.527 1.    0.    0.736]\n",
            " [0.302 0.374 0.786 0.049 0.5   0.681 0.912]\n",
            " [0.159 0.467 0.533 0.352 0.813 0.973 0.385]]\n"
          ]
        }
      ]
    },
    {
      "cell_type": "code",
      "source": [
        "#8\n",
        "print(\"Standard deviation of temperatures: \", np.round((np.std(temp)),3))"
      ],
      "metadata": {
        "colab": {
          "base_uri": "https://localhost:8080/"
        },
        "id": "kXIA1NA4DwM4",
        "outputId": "59fa39de-9d7e-4e47-baae-d2be339ce19c"
      },
      "execution_count": 22,
      "outputs": [
        {
          "output_type": "stream",
          "name": "stdout",
          "text": [
            "Standard deviation of temperatures:  5.241\n"
          ]
        }
      ]
    },
    {
      "cell_type": "code",
      "source": [
        "stock = np.array([\n",
        "    [[67, 10, 55, 95, 45],\n",
        "     [35, 75, 56, 85, 66],\n",
        "     [30, 11, 23, 84, 86],\n",
        "     [83, 60, 58, 76, 43]],\n",
        "\n",
        "    [[70, 26, 17, 41, 94],\n",
        "     [59, 79, 95, 64, 82],\n",
        "     [71, 30, 16, 74, 48],\n",
        "     [92, 47, 82, 64, 10]],\n",
        "\n",
        "    [[55, 98, 39, 97, 63],\n",
        "     [12, 71, 39, 76, 79],\n",
        "     [38, 36, 64, 18, 24],\n",
        "     [32, 42, 47, 37, 67]]\n",
        "])"
      ],
      "metadata": {
        "id": "NCZFAz5WEZn1"
      },
      "execution_count": 24,
      "outputs": []
    },
    {
      "cell_type": "code",
      "source": [
        "#9\n",
        "stock_copy = np.copy(stock)\n",
        "print(\"Stock of 2nd Product over 3rd Week:\\n\",stock_copy[1,2,:])"
      ],
      "metadata": {
        "colab": {
          "base_uri": "https://localhost:8080/"
        },
        "id": "NxuFq-vUGDjl",
        "outputId": "dabad088-415f-4526-9f2e-c19c2b009931"
      },
      "execution_count": 25,
      "outputs": [
        {
          "output_type": "stream",
          "name": "stdout",
          "text": [
            "Stock of 2nd Product over 3rd Week:\n",
            " [71 30 16 74 48]\n"
          ]
        }
      ]
    },
    {
      "cell_type": "code",
      "source": [
        "#10\n",
        "print(\"Total stock of each product over weeks and categories:\", np.sum(stock_copy,axis=(1,2)))"
      ],
      "metadata": {
        "colab": {
          "base_uri": "https://localhost:8080/"
        },
        "id": "dXEkEpP1G32P",
        "outputId": "044dd683-b471-4132-b6de-4c92b295416b"
      },
      "execution_count": 26,
      "outputs": [
        {
          "output_type": "stream",
          "name": "stdout",
          "text": [
            "Total stock of each product over weeks and categories: [1143 1161 1034]\n"
          ]
        }
      ]
    },
    {
      "cell_type": "code",
      "source": [
        "ratings = np.array([\n",
        "    8, 6, 7, 9, 5, 4, 10, 7, 6, 3,\n",
        "    9, 8, 7, 5, 6, 10, 8, 4, 9, 7,\n",
        "    6, 8, 5, 7, 3, 6, 10, 9, 8, 2,\n",
        "    1, 4, 5, 6, 7, 8, 9, 10, 4, 6,\n",
        "    8, 7, 3, 5, 6, 9, 10, 7, 8, 6\n",
        "])"
      ],
      "metadata": {
        "id": "wkSTk16jHd7H"
      },
      "execution_count": 27,
      "outputs": []
    },
    {
      "cell_type": "code",
      "source": [
        "#11\n",
        "r = np.copy(ratings)\n",
        "print(\"Number of people who rated above 7: \" ,np.sum(r>7))"
      ],
      "metadata": {
        "colab": {
          "base_uri": "https://localhost:8080/"
        },
        "id": "xwobPTzQHg_6",
        "outputId": "ecfad7d2-0557-4b37-f31f-e2370dd3880f"
      },
      "execution_count": 29,
      "outputs": [
        {
          "output_type": "stream",
          "name": "stdout",
          "text": [
            "Number of people who rated above 7:  19\n"
          ]
        }
      ]
    },
    {
      "cell_type": "code",
      "source": [
        "#12\n",
        "print(\"Number of people who rated neutral(5): \" ,np.sum(r==7))"
      ],
      "metadata": {
        "colab": {
          "base_uri": "https://localhost:8080/"
        },
        "id": "-KUEPk4uICMA",
        "outputId": "00b6b0d1-13f6-40f2-a866-e4f3b25a3367"
      },
      "execution_count": 30,
      "outputs": [
        {
          "output_type": "stream",
          "name": "stdout",
          "text": [
            "Number of people who rated neutral(5):  8\n"
          ]
        }
      ]
    },
    {
      "cell_type": "code",
      "source": [
        "#13\n",
        "rmax = np.max(r)\n",
        "rmin = np.min(r)\n",
        "normalised_rating = np.round(((r - rmin)/(rmax - rmin)),2)\n",
        "print(\"Normalised Temperature:\\n\", normalised_rating)"
      ],
      "metadata": {
        "colab": {
          "base_uri": "https://localhost:8080/"
        },
        "id": "pXclZmbwIMUP",
        "outputId": "9b454474-e9ff-402d-975a-4af7741d0161"
      },
      "execution_count": 32,
      "outputs": [
        {
          "output_type": "stream",
          "name": "stdout",
          "text": [
            "Normalised Temperature:\n",
            " [0.78 0.56 0.67 0.89 0.44 0.33 1.   0.67 0.56 0.22 0.89 0.78 0.67 0.44\n",
            " 0.56 1.   0.78 0.33 0.89 0.67 0.56 0.78 0.44 0.67 0.22 0.56 1.   0.89\n",
            " 0.78 0.11 0.   0.33 0.44 0.56 0.67 0.78 0.89 1.   0.33 0.56 0.78 0.67\n",
            " 0.22 0.44 0.56 0.89 1.   0.67 0.78 0.56]\n"
          ]
        }
      ]
    },
    {
      "cell_type": "code",
      "source": [
        "steps = np.array([\n",
        "    [5234, 6342, 7001, 8450, 9100, 7200, 6540],\n",
        "    [4320, 4890, 5100, 6001, 6790, 7300, 6900],\n",
        "    [10200, 9800, 11000, 11500, 9000, 8700, 9500],\n",
        "    [3000, 3500, 4000, 4200, 3900, 3700, 4500],\n",
        "    [8120, 7890, 8050, 8700, 9200, 8800, 9400]])"
      ],
      "metadata": {
        "id": "DBiSC3WwJBuw"
      },
      "execution_count": 33,
      "outputs": []
    },
    {
      "cell_type": "code",
      "source": [
        "#14\n",
        "steps_copy = np.copy(steps)\n",
        "avg = np.average(steps_copy,axis=1)\n",
        "print(\"Average steps per user: \", np.round(avg,0))"
      ],
      "metadata": {
        "colab": {
          "base_uri": "https://localhost:8080/"
        },
        "id": "NfByeyJkJXXd",
        "outputId": "4f0af932-d30d-4b36-b591-45aa5c7db174"
      },
      "execution_count": 36,
      "outputs": [
        {
          "output_type": "stream",
          "name": "stdout",
          "text": [
            "Average steps per user:  [7124. 5900. 9957. 3829. 8594.]\n"
          ]
        }
      ]
    },
    {
      "cell_type": "code",
      "source": [
        "#15\n",
        "print(\"Steps for each user on day 3: \", steps_copy[:,2])"
      ],
      "metadata": {
        "colab": {
          "base_uri": "https://localhost:8080/"
        },
        "id": "ORkno8rcKUR9",
        "outputId": "bad25467-2929-4a36-9990-35b258a46ff1"
      },
      "execution_count": 38,
      "outputs": [
        {
          "output_type": "stream",
          "name": "stdout",
          "text": [
            "Steps for each user on day 3:  [ 7001  5100 11000  4000  8050]\n"
          ]
        }
      ]
    },
    {
      "cell_type": "code",
      "source": [
        "#16\n",
        "print(\"Users who walked more than 7000 steps on any day:\")\n",
        "\n",
        "for i in range(steps_copy.shape[0]):\n",
        "    if np.any(steps_copy[i] > 7000):\n",
        "        print(\"User\", i + 1)"
      ],
      "metadata": {
        "colab": {
          "base_uri": "https://localhost:8080/"
        },
        "id": "XgABR1fCKlRI",
        "outputId": "f8ab1163-fff2-4b29-f0d0-014dae8f70cc"
      },
      "execution_count": 39,
      "outputs": [
        {
          "output_type": "stream",
          "name": "stdout",
          "text": [
            "Users who walked more than 7000 steps on any day:\n",
            "User 1\n",
            "User 2\n",
            "User 3\n",
            "User 5\n"
          ]
        }
      ]
    },
    {
      "cell_type": "code",
      "source": [
        "trial_results = np.array([\n",
        "    [10.2, 10.5, 10.1, 10.4, 10.3, 10.6, 10.0, 10.2, 10.5, 10.3],  # Sample 1\n",
        "    [15.0, 15.5, 14.9, 15.2, 15.3, 15.1, 14.8, 15.4, 15.0, 15.2],  # Sample 2\n",
        "    [20.1, 19.8, 20.0, 20.5, 20.2, 20.3, 20.6, 20.4, 19.9, 20.1]   # Sample 3\n",
        "])\n"
      ],
      "metadata": {
        "id": "rbohZzsVL3dm"
      },
      "execution_count": 41,
      "outputs": []
    },
    {
      "cell_type": "code",
      "source": [
        "#17\n",
        "tr = np.copy(trial_results)\n",
        "print(\"Mean result of each sample: \", np.mean(tr,axis=1))"
      ],
      "metadata": {
        "colab": {
          "base_uri": "https://localhost:8080/"
        },
        "id": "T6SAvbcfL8IF",
        "outputId": "9aa77f75-6543-4a20-c5f9-594e0bdb35ee"
      },
      "execution_count": 43,
      "outputs": [
        {
          "output_type": "stream",
          "name": "stdout",
          "text": [
            "Mean result of each sample:  [10.31 15.14 20.19]\n"
          ]
        }
      ]
    },
    {
      "cell_type": "code",
      "source": [
        "#18\n",
        "trial = np.array([])\n",
        "for i in range(tr.shape[0]):\n",
        "    deviations = np.abs(tr[i] - np.mean(tr[i]))\n",
        "    trial = np.append(trial, (np.argmax(deviations)))\n",
        "print(\"Trials for each sample that had highest deviation from mean: \", trial)\n",
        "print(\"NOTE: Trial count starts from 0\")"
      ],
      "metadata": {
        "colab": {
          "base_uri": "https://localhost:8080/"
        },
        "id": "i2VkPChGMhvZ",
        "outputId": "485b17ce-22f4-47cd-ac01-b28dbabe61d0"
      },
      "execution_count": 50,
      "outputs": [
        {
          "output_type": "stream",
          "name": "stdout",
          "text": [
            "Trials for each sample that had highest deviation from mean:  [6. 1. 6.]\n",
            "NOTE: Trial count starts from 0\n"
          ]
        }
      ]
    },
    {
      "cell_type": "code",
      "source": [
        "vitals = np.array([\n",
        "    [  # Patient 1\n",
        "        [98.6, 72, 18], [98.7, 75, 19], [99.0, 70, 20], [98.4, 73, 18], [98.5, 74, 19]\n",
        "    ],\n",
        "    [  # Patient 2\n",
        "        [99.1, 80, 20], [99.3, 78, 22], [98.9, 82, 21], [99.0, 79, 20], [99.2, 81, 21]\n",
        "    ]\n",
        "])"
      ],
      "metadata": {
        "id": "dhnXH9IuR05Q"
      },
      "execution_count": 51,
      "outputs": []
    },
    {
      "cell_type": "code",
      "source": [
        "#19\n",
        "vitals_copy = np.copy(vitals)\n",
        "print(\"Vitals for Patient 1 on Day 4:\", vitals_copy[0, 3])"
      ],
      "metadata": {
        "colab": {
          "base_uri": "https://localhost:8080/"
        },
        "id": "jg7ANQz9R675",
        "outputId": "daa993dd-7117-45bc-96a3-65cb02a4598e"
      },
      "execution_count": 52,
      "outputs": [
        {
          "output_type": "stream",
          "name": "stdout",
          "text": [
            "Vitals for Patient 1 on Day 4: [98.4 73.  18. ]\n"
          ]
        }
      ]
    },
    {
      "cell_type": "code",
      "source": [
        "#20\n",
        "vital = vitals_copy[1, :, 2]\n",
        "vals, counts = np.unique(vital, return_counts=True)\n",
        "mode = vals[np.argmax(counts)]\n",
        "print(\"Patient 2 Vital 3\")\n",
        "print(\"Selected vital values:\", vital)\n",
        "print(\"Mode of selected vital sign:\", mode)\n"
      ],
      "metadata": {
        "colab": {
          "base_uri": "https://localhost:8080/"
        },
        "id": "kZcW5JE7Sf-_",
        "outputId": "97fc5c14-31d7-4fca-8a0e-4b617a5f706e"
      },
      "execution_count": 54,
      "outputs": [
        {
          "output_type": "stream",
          "name": "stdout",
          "text": [
            "Patient 2 Vital 3\n",
            "Selected vital values: [20. 22. 21. 20. 21.]\n",
            "Mode of selected vital sign: 20.0\n"
          ]
        }
      ]
    }
  ]
}