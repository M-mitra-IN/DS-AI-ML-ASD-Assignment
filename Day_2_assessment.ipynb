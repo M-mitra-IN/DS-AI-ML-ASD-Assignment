{
  "nbformat": 4,
  "nbformat_minor": 0,
  "metadata": {
    "colab": {
      "provenance": [],
      "authorship_tag": "ABX9TyMPKek9JFuVizTCYlPWJEYf"
    },
    "kernelspec": {
      "name": "python3",
      "display_name": "Python 3"
    },
    "language_info": {
      "name": "python"
    }
  },
  "cells": [
    {
      "cell_type": "code",
      "execution_count": 4,
      "metadata": {
        "colab": {
          "base_uri": "https://localhost:8080/"
        },
        "id": "7YjFygg8wbyU",
        "outputId": "2e3a3798-920f-4301-a47a-a258d46c6ead"
      },
      "outputs": [
        {
          "output_type": "stream",
          "name": "stdout",
          "text": [
            "RECEIPT\n",
            "Apples :  50 x 2  =  100\n",
            "Milk :  60 x 1  =  60\n",
            "Bread :  40 x 1  =  40\n",
            "Eggs :  6 x 12  =  72\n",
            "Total Bill: 272\n"
          ]
        }
      ],
      "source": [
        "#1\n",
        "def calculate_total_bill(items):\n",
        "    total = 0\n",
        "    print(\"RECEIPT\")\n",
        "    for item in items:\n",
        "        name = item['name']\n",
        "        price = item['price']\n",
        "        quantity = item['quantity']\n",
        "        item_total = price * quantity\n",
        "        total += item_total\n",
        "        print(name,\": \",price, \"x\", quantity,  \" = \", item_total)\n",
        "    print(\"Total Bill:\", total)\n",
        "\n",
        "cart = [\n",
        "    {'name': 'Apples', 'price': 50, 'quantity': 2},\n",
        "    {'name': 'Milk', 'price': 60, 'quantity': 1},\n",
        "    {'name': 'Bread', 'price': 40, 'quantity': 1},\n",
        "    {'name': 'Eggs', 'price': 6, 'quantity': 12}\n",
        "]\n",
        "\n",
        "calculate_total_bill(cart)"
      ]
    },
    {
      "cell_type": "code",
      "source": [
        "#2\n",
        "def report(name, grade1, grade2, grade3):\n",
        "    average = (grade1 + grade2 + grade3) / 3\n",
        "\n",
        "    if average >= 90 and average <= 100:\n",
        "        grade = 'O'\n",
        "    elif average >= 80 and average <= 89:\n",
        "        grade = 'E'\n",
        "    elif average >= 70 and average <= 79:\n",
        "        grade = 'A'\n",
        "    elif average >= 60 and average <= 69:\n",
        "        grade = 'B'\n",
        "    elif average >= 50 and average <= 59:\n",
        "        grade = 'C'\n",
        "    elif average >= 40 and average <= 49:\n",
        "        grade = 'D'\n",
        "    else:\n",
        "        grade = 'F'\n",
        "\n",
        "    print(\"Student: \",name, \"Average Marks:\", average, \"Grade: \",grade)\n",
        "\n",
        "name = input(\"Enter student name: \")\n",
        "g1 = float(input(\"Enter marks in subject 1: \"))\n",
        "g2 = float(input(\"Enter marks in subject 2: \"))\n",
        "g3 = float(input(\"Enter marks in subject 3: \"))\n",
        "report(name, g1, g2, g3)\n"
      ],
      "metadata": {
        "colab": {
          "base_uri": "https://localhost:8080/"
        },
        "id": "_mSBmYX8whR7",
        "outputId": "4d1c9227-75c7-4528-a552-6996ac1de4b0"
      },
      "execution_count": 6,
      "outputs": [
        {
          "output_type": "stream",
          "name": "stdout",
          "text": [
            "Enter student name: Mohnish\n",
            "Enter marks in subject 1: 99\n",
            "Enter marks in subject 2: 88\n",
            "Enter marks in subject 3: 90\n",
            "Student:  Mohnish Average Marks: 92.33333333333333 Grade:  O\n"
          ]
        }
      ]
    },
    {
      "cell_type": "code",
      "source": [
        "#3\n",
        "def conv_temp(temp, to_unit):\n",
        "    if to_unit == \"f\" or to_unit == \"F\":\n",
        "        return (temp * 9/5) + 32\n",
        "    elif to_unit == \"c\" or to_unit == \"C\":\n",
        "        return (temp - 32) * 5/9\n",
        "    else:\n",
        "        return None\n",
        "\n",
        "\n",
        "print(\"Temperature Converter\")\n",
        "print(\"Type 'F' to convert Celsius to Fahrenheit\")\n",
        "print(\"Type 'C' to convert Fahrenheit to Celsius\")\n",
        "\n",
        "choice = input(\"Enter your choice (F/C): \")\n",
        "temp = float(input(\"Enter the temperature: \"))\n",
        "\n",
        "converted = conv_temp(temp, choice)\n",
        "\n",
        "if converted is not None:\n",
        "    unit = \"Fahrenheit\" if choice.lower() == \"f\" else \"Celsius\"\n",
        "    print(f\"Converted Temperature: {converted:.2f} {unit}\")\n",
        "else:\n",
        "    print(\"Invalid choice. Please enter 'F' or 'C'.\")\n"
      ],
      "metadata": {
        "colab": {
          "base_uri": "https://localhost:8080/"
        },
        "id": "kVuAUEHbwiZC",
        "outputId": "10c8fbac-6dd4-4972-a989-052b8f48915c"
      },
      "execution_count": 8,
      "outputs": [
        {
          "output_type": "stream",
          "name": "stdout",
          "text": [
            "Temperature Converter\n",
            "Type 'F' to convert Celsius to Fahrenheit\n",
            "Type 'C' to convert Fahrenheit to Celsius\n",
            "Enter your choice (F/C): f\n",
            "Enter the temperature: 100\n",
            "Converted Temperature: 212.00 Fahrenheit\n"
          ]
        }
      ]
    },
    {
      "cell_type": "code",
      "source": [
        "#4\n",
        "class Employee:\n",
        "    def __init__(self, name, emp_id, salary):\n",
        "        self.name = name\n",
        "        self.emp_id = emp_id\n",
        "        self.salary = salary\n",
        "\n",
        "    def display_details(self):\n",
        "        print(\"Employee Name:\", self.name)\n",
        "        print(\"Employee ID:\", self.emp_id)\n",
        "        print(\"Salary:\", self.salary)\n",
        "\n",
        "name = input(\"Enter employee name: \")\n",
        "emp_id = input(\"Enter employee ID: \")\n",
        "salary = float(input(\"Enter employee salary: \"))\n",
        "emp = Employee(name, emp_id, salary)\n",
        "emp.display_details()"
      ],
      "metadata": {
        "colab": {
          "base_uri": "https://localhost:8080/"
        },
        "id": "MO4MoJZ6w0RK",
        "outputId": "cdf0985d-9da0-49bd-fdf0-3c8aab5e7241"
      },
      "execution_count": 9,
      "outputs": [
        {
          "output_type": "stream",
          "name": "stdout",
          "text": [
            "Enter employee name: Mohnish\n",
            "Enter employee ID: 2204110\n",
            "Enter employee salary: 50000\n",
            "Employee Name: Mohnish\n",
            "Employee ID: 2204110\n",
            "Salary: 50000.0\n"
          ]
        }
      ]
    },
    {
      "cell_type": "code",
      "source": [
        "#5\n",
        "class BankAccount:\n",
        "    def __init__(self, account_holder, balance=0):\n",
        "        self.account_holder = account_holder\n",
        "        self.balance = balance\n",
        "\n",
        "    def deposit(self, amount):\n",
        "        self.balance += amount\n",
        "        print(\"Amount deposited:\", amount)\n",
        "\n",
        "    def withdraw(self, amount):\n",
        "        if amount <= self.balance:\n",
        "            self.balance -= amount\n",
        "            print(\"Amount withdrawn:\", amount)\n",
        "        else:\n",
        "            print(\"Insufficient balance\")\n",
        "\n",
        "    def check_balance(self):\n",
        "        print(\"Current balance:\", self.balance)\n",
        "\n",
        "name = input(\"Enter account holder name: \")\n",
        "account = BankAccount(name)\n",
        "\n",
        "while True:\n",
        "    print(\"\\n1. Deposit\")\n",
        "    print(\"2. Withdraw\")\n",
        "    print(\"3. Check Balance\")\n",
        "    print(\"4. Exit\")\n",
        "    choice = input(\"Enter your choice: \")\n",
        "\n",
        "    if choice == \"1\":\n",
        "        amt = float(input(\"Enter amount to deposit: \"))\n",
        "        account.deposit(amt)\n",
        "    elif choice == \"2\":\n",
        "        amt = float(input(\"Enter amount to withdraw: \"))\n",
        "        account.withdraw(amt)\n",
        "    elif choice == \"3\":\n",
        "        account.check_balance()\n",
        "    elif choice == \"4\":\n",
        "        print(\"Exiting...\")\n",
        "        break\n",
        "    else:\n",
        "        print(\"Invalid choice\")\n"
      ],
      "metadata": {
        "colab": {
          "base_uri": "https://localhost:8080/"
        },
        "id": "uYbhHPPdw1d4",
        "outputId": "818d422c-2069-465b-c71d-fc3450b1cd0f"
      },
      "execution_count": 10,
      "outputs": [
        {
          "output_type": "stream",
          "name": "stdout",
          "text": [
            "Enter account holder name: Mohnish\n",
            "\n",
            "1. Deposit\n",
            "2. Withdraw\n",
            "3. Check Balance\n",
            "4. Exit\n",
            "Enter your choice: 1\n",
            "Enter amount to deposit: 100000\n",
            "Amount deposited: 100000.0\n",
            "\n",
            "1. Deposit\n",
            "2. Withdraw\n",
            "3. Check Balance\n",
            "4. Exit\n",
            "Enter your choice: 2\n",
            "Enter amount to withdraw: 5000\n",
            "Amount withdrawn: 5000.0\n",
            "\n",
            "1. Deposit\n",
            "2. Withdraw\n",
            "3. Check Balance\n",
            "4. Exit\n",
            "Enter your choice: 3\n",
            "Current balance: 95000.0\n",
            "\n",
            "1. Deposit\n",
            "2. Withdraw\n",
            "3. Check Balance\n",
            "4. Exit\n",
            "Enter your choice: 4\n",
            "Exiting...\n"
          ]
        }
      ]
    },
    {
      "cell_type": "code",
      "source": [
        "#6\n",
        "class MovieTicket:\n",
        "    def __init__(self, movie_name, seat_number, price):\n",
        "        self.movie_name = movie_name\n",
        "        self.seat_number = seat_number\n",
        "        self.price = price\n",
        "\n",
        "    def total_price(self, quantity):\n",
        "        return self.price * quantity\n",
        "\n",
        "movie = input(\"Enter movie name: \")\n",
        "seat = input(\"Enter seat number: \")\n",
        "price = float(input(\"Enter ticket price: \"))\n",
        "quantity = int(input(\"Enter number of tickets: \"))\n",
        "\n",
        "ticket = MovieTicket(movie, seat, price)\n",
        "total = ticket.total_price(quantity)\n",
        "\n",
        "print(\"Movie Name:\", ticket.movie_name)\n",
        "print(\"Seat Number:\", ticket.seat_number)\n",
        "print(\"Ticket Price:\", ticket.price)\n",
        "print(\"Quantity:\", quantity)\n",
        "print(\"Total Price:\", total)\n"
      ],
      "metadata": {
        "colab": {
          "base_uri": "https://localhost:8080/"
        },
        "id": "ulS_uuXww2Ox",
        "outputId": "edd49743-a525-4bf4-f5ee-a0fc4a283241"
      },
      "execution_count": 12,
      "outputs": [
        {
          "output_type": "stream",
          "name": "stdout",
          "text": [
            "Enter movie name: Evil Dead Rise\n",
            "Enter seat number: 52,53,54,55\n",
            "Enter ticket price: 50\n",
            "Enter number of tickets: 4\n",
            "Movie Name: Evil Dead Rise\n",
            "Seat Number: 52,53,54,55\n",
            "Ticket Price: 50.0\n",
            "Quantity: 4\n",
            "Total Price: 200.0\n"
          ]
        }
      ]
    },
    {
      "cell_type": "code",
      "source": [
        "#7\n",
        "class Book:\n",
        "    def __init__(self, title, author):\n",
        "        self.title = title\n",
        "        self.author = author\n",
        "        self.available = True\n",
        "\n",
        "    def borrow_book(self):\n",
        "        if self.available:\n",
        "            self.available = False\n",
        "            print(\"Book borrowed successfully\")\n",
        "        else:\n",
        "            print(\"Book is currently not available\")\n",
        "\n",
        "    def return_book(self):\n",
        "        if not self.available:\n",
        "            self.available = True\n",
        "            print(\"Book returned successfully\")\n",
        "        else:\n",
        "            print(\"Book was not borrowed\")\n",
        "\n",
        "title = input(\"Enter book title: \")\n",
        "author = input(\"Enter book author: \")\n",
        "\n",
        "book = Book(title, author)\n",
        "\n",
        "while True:\n",
        "    print(\"\\n1. Borrow Book\")\n",
        "    print(\"2. Return Book\")\n",
        "    print(\"3. Exit\")\n",
        "    choice = input(\"Enter your choice: \")\n",
        "\n",
        "    if choice == \"1\":\n",
        "        book.borrow_book()\n",
        "    elif choice == \"2\":\n",
        "        book.return_book()\n",
        "    elif choice == \"3\":\n",
        "        print(\"Exiting...\")\n",
        "        break\n",
        "    else:\n",
        "        print(\"Invalid choice\")\n"
      ],
      "metadata": {
        "colab": {
          "base_uri": "https://localhost:8080/"
        },
        "id": "AsgLXs9Mw3Ki",
        "outputId": "d480c84b-d4fe-4239-80f4-fc7d8897e54f"
      },
      "execution_count": 13,
      "outputs": [
        {
          "output_type": "stream",
          "name": "stdout",
          "text": [
            "Enter book title: Compass Rose\n",
            "Enter book author: Anna Burke\n",
            "\n",
            "1. Borrow Book\n",
            "2. Return Book\n",
            "3. Exit\n",
            "Enter your choice: 1\n",
            "Book borrowed successfully\n",
            "\n",
            "1. Borrow Book\n",
            "2. Return Book\n",
            "3. Exit\n",
            "Enter your choice: 2\n",
            "Book returned successfully\n",
            "\n",
            "1. Borrow Book\n",
            "2. Return Book\n",
            "3. Exit\n",
            "Enter your choice: 3\n",
            "Exiting...\n"
          ]
        }
      ]
    },
    {
      "cell_type": "code",
      "source": [
        "#8\n",
        "class Car:\n",
        "    def __init__(self, brand, model, daily_rent):\n",
        "        self.brand = brand\n",
        "        self.model = model\n",
        "        self.daily_rent = daily_rent\n",
        "\n",
        "    def calculate_rent(self, days):\n",
        "        return self.daily_rent * days\n",
        "\n",
        "brand = input(\"Enter car brand: \")\n",
        "model = input(\"Enter car model: \")\n",
        "daily_rent = float(input(\"Enter daily rent: \"))\n",
        "days = int(input(\"Enter number of rental days: \"))\n",
        "\n",
        "car = Car(brand, model, daily_rent)\n",
        "total_rent = car.calculate_rent(days)\n",
        "\n",
        "print(\"Car Brand:\", car.brand)\n",
        "print(\"Car Model:\", car.model)\n",
        "print(\"Daily Rent:\", car.daily_rent)\n",
        "print(\"Rental Days:\", days)\n",
        "print(\"Total Rent:\", total_rent)\n"
      ],
      "metadata": {
        "colab": {
          "base_uri": "https://localhost:8080/"
        },
        "id": "TpOQ083Nw4Sd",
        "outputId": "baba0b71-b50b-4a62-9fa0-48c861b4d9df"
      },
      "execution_count": 14,
      "outputs": [
        {
          "output_type": "stream",
          "name": "stdout",
          "text": [
            "Enter car brand: Maruti\n",
            "Enter car model: Swift 2025\n",
            "Enter daily rent: 300\n",
            "Enter number of rental days: 5\n",
            "Car Brand: Maruti\n",
            "Car Model: Swift 2025\n",
            "Daily Rent: 300.0\n",
            "Rental Days: 5\n",
            "Total Rent: 1500.0\n"
          ]
        }
      ]
    },
    {
      "cell_type": "code",
      "source": [
        "#9\n",
        "class Course:\n",
        "    def __init__(self, course_name, total_modules, completed_modules):\n",
        "        self.course_name = course_name\n",
        "        self.total_modules = total_modules\n",
        "        self.completed_modules = completed_modules\n",
        "\n",
        "    def completion_percentage(self):\n",
        "        if self.total_modules == 0:\n",
        "            return 0\n",
        "        return (self.completed_modules / self.total_modules) * 100\n",
        "\n",
        "name = input(\"Enter course name: \")\n",
        "total = int(input(\"Enter total number of modules: \"))\n",
        "completed = int(input(\"Enter number of completed modules: \"))\n",
        "\n",
        "course = Course(name, total, completed)\n",
        "percent = course.completion_percentage()\n",
        "\n",
        "print(\"Course Name:\", course.course_name)\n",
        "print(\"Total Modules:\", course.total_modules)\n",
        "print(\"Completed Modules:\", course.completed_modules)\n",
        "print(\"Completion Percentage:\", round(percent, 2), \"%\")\n"
      ],
      "metadata": {
        "colab": {
          "base_uri": "https://localhost:8080/"
        },
        "id": "esv0NR8bw4-s",
        "outputId": "7860b235-cc65-4f28-f642-337989e8bdc1"
      },
      "execution_count": 15,
      "outputs": [
        {
          "output_type": "stream",
          "name": "stdout",
          "text": [
            "Enter course name: DS-AI-ML\n",
            "Enter total number of modules: 24\n",
            "Enter number of completed modules: 7\n",
            "Course Name: DS-AI-ML\n",
            "Total Modules: 24\n",
            "Completed Modules: 7\n",
            "Completion Percentage: 29.17 %\n"
          ]
        }
      ]
    },
    {
      "cell_type": "code",
      "source": [
        "#10\n",
        "def calculate_bill(items, prices):\n",
        "    total = sum(prices)\n",
        "    count = len(items)\n",
        "    return total, count\n",
        "\n",
        "n = int(input(\"Enter number of items ordered: \"))\n",
        "items = []\n",
        "prices = []\n",
        "\n",
        "for i in range(n):\n",
        "    item = input(\"Enter food item name: \")\n",
        "    price = float(input(\"Enter price of \" + item + \": \"))\n",
        "    items.append(item)\n",
        "    prices.append(price)\n",
        "\n",
        "total_amount, item_count = calculate_bill(items, prices)\n",
        "\n",
        "print(\"Items Ordered:\", items)\n",
        "print(\"Number of Items:\", item_count)\n",
        "print(\"Total Bill Amount:\", total_amount)\n"
      ],
      "metadata": {
        "colab": {
          "base_uri": "https://localhost:8080/"
        },
        "id": "YvC0USXRw55S",
        "outputId": "1acb4acb-309d-4738-8b4f-821665bdc43b"
      },
      "execution_count": 16,
      "outputs": [
        {
          "output_type": "stream",
          "name": "stdout",
          "text": [
            "Enter number of items ordered: 3\n",
            "Enter food item name: Butter Naan\n",
            "Enter price of Butter Naan: 150\n",
            "Enter food item name: Shahi Paneer\n",
            "Enter price of Shahi Paneer: 200\n",
            "Enter food item name: Blue Lagoon\n",
            "Enter price of Blue Lagoon: 50\n",
            "Items Ordered: ['Butter Naan', 'Shahi Paneer', 'Blue Lagoon']\n",
            "Number of Items: 3\n",
            "Total Bill Amount: 400.0\n"
          ]
        }
      ]
    },
    {
      "cell_type": "code",
      "source": [
        "#11\n",
        "class ATM:\n",
        "    def __init__(self, initial_balance):\n",
        "        self.__balance = initial_balance\n",
        "\n",
        "    def __verify_pin(self):\n",
        "        pin = input(\"Enter your PIN: \")\n",
        "        if pin == \"1234\":\n",
        "            return True\n",
        "        else:\n",
        "            print(\"Incorrect PIN\")\n",
        "            return False\n",
        "\n",
        "    def deposit(self, amount):\n",
        "        if self.__verify_pin():\n",
        "            self.__balance += amount\n",
        "            print(\"Amount deposited:\", amount)\n",
        "\n",
        "    def withdraw(self, amount):\n",
        "        if self.__verify_pin():\n",
        "            if amount <= self.__balance:\n",
        "                self.__balance -= amount\n",
        "                print(\"Amount withdrawn:\", amount)\n",
        "            else:\n",
        "                print(\"Insufficient balance\")\n",
        "\n",
        "    def check_balance(self):\n",
        "        if self.__verify_pin():\n",
        "            print(\"Current balance:\", self.__balance)\n",
        "\n",
        "atm = ATM(100000)\n",
        "\n",
        "while True:\n",
        "    print(\"\\n1. Deposit\")\n",
        "    print(\"2. Withdraw\")\n",
        "    print(\"3. Check Balance\")\n",
        "    print(\"4. Exit\")\n",
        "    choice = input(\"Enter your choice: \")\n",
        "\n",
        "    if choice == \"1\":\n",
        "        amt = float(input(\"Enter amount to deposit: \"))\n",
        "        atm.deposit(amt)\n",
        "    elif choice == \"2\":\n",
        "        amt = float(input(\"Enter amount to withdraw: \"))\n",
        "        atm.withdraw(amt)\n",
        "    elif choice == \"3\":\n",
        "        atm.check_balance()\n",
        "    elif choice == \"4\":\n",
        "        print(\"Thank you for using the ATM\")\n",
        "        break\n",
        "    else:\n",
        "        print(\"Invalid choice\")"
      ],
      "metadata": {
        "colab": {
          "base_uri": "https://localhost:8080/"
        },
        "id": "UN7SU9BLw6l-",
        "outputId": "c2100cdf-f177-4d7d-abb9-9f5c4ae4dded"
      },
      "execution_count": 17,
      "outputs": [
        {
          "output_type": "stream",
          "name": "stdout",
          "text": [
            "\n",
            "1. Deposit\n",
            "2. Withdraw\n",
            "3. Check Balance\n",
            "4. Exit\n",
            "Enter your choice: 1\n",
            "Enter amount to deposit: 5000\n",
            "Enter your PIN: 1234\n",
            "Amount deposited: 5000.0\n",
            "\n",
            "1. Deposit\n",
            "2. Withdraw\n",
            "3. Check Balance\n",
            "4. Exit\n",
            "Enter your choice: 2\n",
            "Enter amount to withdraw: 10000\n",
            "Enter your PIN: 1234\n",
            "Amount withdrawn: 10000.0\n",
            "\n",
            "1. Deposit\n",
            "2. Withdraw\n",
            "3. Check Balance\n",
            "4. Exit\n",
            "Enter your choice: 3\n",
            "Enter your PIN: 1234\n",
            "Current balance: 95000.0\n",
            "\n",
            "1. Deposit\n",
            "2. Withdraw\n",
            "3. Check Balance\n",
            "4. Exit\n",
            "Enter your choice: 4\n",
            "Thank you for using the ATM\n"
          ]
        }
      ]
    },
    {
      "cell_type": "code",
      "source": [
        "#12\n",
        "class Student:\n",
        "    def __init__(self, name):\n",
        "        self.name = name\n",
        "        self.__marks = 0\n",
        "\n",
        "    def set_marks(self, marks):\n",
        "        if 0 <= marks <= 100:\n",
        "            self.__marks = marks\n",
        "            print(\"Marks updated successfully\")\n",
        "        else:\n",
        "            print(\"Invalid marks. Enter between 0 and 100.\")\n",
        "\n",
        "    def get_marks(self):\n",
        "        return self.__marks\n",
        "\n",
        "name = input(\"Enter student name: \")\n",
        "student = Student(name)\n",
        "\n",
        "while True:\n",
        "    print(\"\\n1. Enter Marks\")\n",
        "    print(\"2. Print Marks\")\n",
        "    print(\"3. Exit\")\n",
        "    choice = input(\"Enter your choice: \")\n",
        "\n",
        "    if choice == \"1\":\n",
        "        m = int(input(\"Enter marks: \"))\n",
        "        student.set_marks(m)\n",
        "    elif choice == \"2\":\n",
        "        print(\"Marks of\", student.name, \"are:\", student.get_marks())\n",
        "    elif choice == \"3\":\n",
        "        print(\"Exiting...\")\n",
        "        break\n",
        "    else:\n",
        "        print(\"Invalid choice\")\n"
      ],
      "metadata": {
        "colab": {
          "base_uri": "https://localhost:8080/"
        },
        "id": "RTTnSno8w7WE",
        "outputId": "61056761-1c88-4b97-e777-6f0a261d1a3b"
      },
      "execution_count": 19,
      "outputs": [
        {
          "output_type": "stream",
          "name": "stdout",
          "text": [
            "Enter student name: Mohnish\n",
            "\n",
            "1. Enter Marks\n",
            "2. Print Marks\n",
            "3. Exit\n",
            "Enter your choice: 1\n",
            "Enter marks: 99\n",
            "Marks updated successfully\n",
            "\n",
            "1. Enter Marks\n",
            "2. Print Marks\n",
            "3. Exit\n",
            "Enter your choice: 2\n",
            "Marks of Mohnish are: 99\n",
            "\n",
            "1. Enter Marks\n",
            "2. Print Marks\n",
            "3. Exit\n",
            "Enter your choice: 3\n",
            "Exiting...\n"
          ]
        }
      ]
    },
    {
      "cell_type": "code",
      "source": [
        "#13\n",
        "class Vehicle:\n",
        "    def __init__(self, brand, model):\n",
        "        self.brand = brand\n",
        "        self.model = model\n",
        "\n",
        "    def display_info(self):\n",
        "        print(\"Brand:\", self.brand)\n",
        "        print(\"Model:\", self.model)\n",
        "\n",
        "class Car(Vehicle):\n",
        "    def __init__(self, brand, model, seats):\n",
        "        super().__init__(brand, model)\n",
        "        self.seats = seats\n",
        "\n",
        "    def display_info(self):\n",
        "        super().display_info()\n",
        "        print(\"Seats:\", self.seats)\n",
        "\n",
        "class Bike(Vehicle):\n",
        "    def __init__(self, brand, model, bike_type):\n",
        "        super().__init__(brand, model)\n",
        "        self.bike_type = bike_type\n",
        "\n",
        "    def display_info(self):\n",
        "        super().display_info()\n",
        "        print(\"Bike Type:\", self.bike_type)\n",
        "\n",
        "class Truck(Vehicle):\n",
        "    def __init__(self, brand, model, capacity):\n",
        "        super().__init__(brand, model)\n",
        "        self.capacity = capacity\n",
        "\n",
        "    def display_info(self):\n",
        "        super().display_info()\n",
        "        print(\"Load Capacity (tons):\", self.capacity)\n",
        "\n",
        "print(\"1. Add Car\")\n",
        "print(\"2. Add Bike\")\n",
        "print(\"3. Add Truck\")\n",
        "choice = input(\"Enter your choice: \")\n",
        "\n",
        "if choice == \"1\":\n",
        "    brand = input(\"Enter car brand: \")\n",
        "    model = input(\"Enter car model: \")\n",
        "    seats = int(input(\"Enter number of seats: \"))\n",
        "    car = Car(brand, model, seats)\n",
        "    car.display_info()\n",
        "elif choice == \"2\":\n",
        "    brand = input(\"Enter bike brand: \")\n",
        "    model = input(\"Enter bike model: \")\n",
        "    bike_type = input(\"Enter bike type (e.g., sports, cruiser): \")\n",
        "    bike = Bike(brand, model, bike_type)\n",
        "    bike.display_info()\n",
        "elif choice == \"3\":\n",
        "    brand = input(\"Enter truck brand: \")\n",
        "    model = input(\"Enter truck model: \")\n",
        "    capacity = float(input(\"Enter load capacity in tons: \"))\n",
        "    truck = Truck(brand, model, capacity)\n",
        "    truck.display_info()\n",
        "else:\n",
        "    print(\"Invalid choice\")\n"
      ],
      "metadata": {
        "colab": {
          "base_uri": "https://localhost:8080/"
        },
        "id": "7EzjpnYPw8R0",
        "outputId": "68cbd8e8-5d53-45e5-df14-da238d5d5149"
      },
      "execution_count": 20,
      "outputs": [
        {
          "output_type": "stream",
          "name": "stdout",
          "text": [
            "1. Add Car\n",
            "2. Add Bike\n",
            "3. Add Truck\n",
            "Enter your choice: 1\n",
            "Enter car brand: Maruti\n",
            "Enter car model: Dzire 2025\n",
            "Enter number of seats: 4\n",
            "Brand: Maruti\n",
            "Model: Dzire 2025\n",
            "Seats: 4\n"
          ]
        }
      ]
    },
    {
      "cell_type": "code",
      "source": [
        "#14\n",
        "class Payment:\n",
        "    def make_payment(self):\n",
        "        print(\"Processing payment...\")\n",
        "\n",
        "class CreditCard(Payment):\n",
        "    def make_payment(self):\n",
        "        print(\"Processing credit card payment...\")\n",
        "\n",
        "class DebitCard(Payment):\n",
        "    def make_payment(self):\n",
        "        print(\"Processing debit card payment...\")\n",
        "\n",
        "class UPI(Payment):\n",
        "    def make_payment(self):\n",
        "        print(\"Processing UPI payment...\")\n",
        "\n",
        "print(\"1. Credit Card\")\n",
        "print(\"2. Debit Card\")\n",
        "print(\"3. UPI\")\n",
        "choice = input(\"Select payment method: \")\n",
        "\n",
        "if choice == \"1\":\n",
        "    payment = CreditCard()\n",
        "elif choice == \"2\":\n",
        "    payment = DebitCard()\n",
        "elif choice == \"3\":\n",
        "    payment = UPI()\n",
        "else:\n",
        "    print(\"Invalid choice\")\n",
        "    payment = None\n",
        "\n",
        "if payment:\n",
        "    payment.make_payment()\n"
      ],
      "metadata": {
        "colab": {
          "base_uri": "https://localhost:8080/"
        },
        "id": "JwZ_xvzgw87h",
        "outputId": "2c305a9f-1403-4cbc-ffad-788aa719a1b0"
      },
      "execution_count": 21,
      "outputs": [
        {
          "output_type": "stream",
          "name": "stdout",
          "text": [
            "1. Credit Card\n",
            "2. Debit Card\n",
            "3. UPI\n",
            "Select payment method: 2\n",
            "Processing debit card payment...\n"
          ]
        }
      ]
    }
  ]
}